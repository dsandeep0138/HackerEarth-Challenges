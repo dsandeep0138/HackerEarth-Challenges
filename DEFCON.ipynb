{
 "cells": [
  {
   "cell_type": "code",
   "execution_count": 1011,
   "metadata": {},
   "outputs": [],
   "source": [
    "import numpy as np\n",
    "import pandas as pd"
   ]
  },
  {
   "cell_type": "code",
   "execution_count": 1012,
   "metadata": {},
   "outputs": [],
   "source": [
    "X_train = pd.read_csv('train.csv')"
   ]
  },
  {
   "cell_type": "code",
   "execution_count": 1013,
   "metadata": {},
   "outputs": [
    {
     "data": {
      "text/html": [
       "<div>\n",
       "<style scoped>\n",
       "    .dataframe tbody tr th:only-of-type {\n",
       "        vertical-align: middle;\n",
       "    }\n",
       "\n",
       "    .dataframe tbody tr th {\n",
       "        vertical-align: top;\n",
       "    }\n",
       "\n",
       "    .dataframe thead th {\n",
       "        text-align: right;\n",
       "    }\n",
       "</style>\n",
       "<table border=\"1\" class=\"dataframe\">\n",
       "  <thead>\n",
       "    <tr style=\"text-align: right;\">\n",
       "      <th></th>\n",
       "      <th>Allied_Nations</th>\n",
       "      <th>Diplomatic_Meetings_Set</th>\n",
       "      <th>Percent_Of_Forces_Mobilized</th>\n",
       "      <th>Hostile_Nations</th>\n",
       "      <th>Active_Threats</th>\n",
       "      <th>Inactive_Threats</th>\n",
       "      <th>Citizen_Fear_Index</th>\n",
       "      <th>Closest_Threat_Distance(km)</th>\n",
       "      <th>Aircraft_Carriers_Responding</th>\n",
       "      <th>Troops_Mobilized(thousands)</th>\n",
       "      <th>DEFCON_Level</th>\n",
       "      <th>ID</th>\n",
       "    </tr>\n",
       "  </thead>\n",
       "  <tbody>\n",
       "    <tr>\n",
       "      <th>0</th>\n",
       "      <td>16</td>\n",
       "      <td>1</td>\n",
       "      <td>0.67</td>\n",
       "      <td>3</td>\n",
       "      <td>6.0</td>\n",
       "      <td>25.0</td>\n",
       "      <td>0.787812</td>\n",
       "      <td>324.36</td>\n",
       "      <td>1</td>\n",
       "      <td>862400.0</td>\n",
       "      <td>3</td>\n",
       "      <td>7570</td>\n",
       "    </tr>\n",
       "    <tr>\n",
       "      <th>1</th>\n",
       "      <td>8</td>\n",
       "      <td>1</td>\n",
       "      <td>0.11</td>\n",
       "      <td>2</td>\n",
       "      <td>38.0</td>\n",
       "      <td>48.0</td>\n",
       "      <td>0.419236</td>\n",
       "      <td>359.34</td>\n",
       "      <td>0</td>\n",
       "      <td>959200.0</td>\n",
       "      <td>4</td>\n",
       "      <td>12128</td>\n",
       "    </tr>\n",
       "    <tr>\n",
       "      <th>2</th>\n",
       "      <td>9</td>\n",
       "      <td>1</td>\n",
       "      <td>0.49</td>\n",
       "      <td>3</td>\n",
       "      <td>32.0</td>\n",
       "      <td>69.0</td>\n",
       "      <td>0.582232</td>\n",
       "      <td>332.84</td>\n",
       "      <td>1</td>\n",
       "      <td>836000.0</td>\n",
       "      <td>3</td>\n",
       "      <td>2181</td>\n",
       "    </tr>\n",
       "    <tr>\n",
       "      <th>3</th>\n",
       "      <td>7</td>\n",
       "      <td>0</td>\n",
       "      <td>0.30</td>\n",
       "      <td>2</td>\n",
       "      <td>31.0</td>\n",
       "      <td>52.0</td>\n",
       "      <td>0.589574</td>\n",
       "      <td>358.28</td>\n",
       "      <td>1</td>\n",
       "      <td>924000.0</td>\n",
       "      <td>3</td>\n",
       "      <td>5946</td>\n",
       "    </tr>\n",
       "    <tr>\n",
       "      <th>4</th>\n",
       "      <td>8</td>\n",
       "      <td>1</td>\n",
       "      <td>0.12</td>\n",
       "      <td>5</td>\n",
       "      <td>13.0</td>\n",
       "      <td>42.0</td>\n",
       "      <td>0.552863</td>\n",
       "      <td>364.64</td>\n",
       "      <td>0</td>\n",
       "      <td>968000.0</td>\n",
       "      <td>2</td>\n",
       "      <td>9054</td>\n",
       "    </tr>\n",
       "  </tbody>\n",
       "</table>\n",
       "</div>"
      ],
      "text/plain": [
       "   Allied_Nations  Diplomatic_Meetings_Set  Percent_Of_Forces_Mobilized  \\\n",
       "0              16                        1                         0.67   \n",
       "1               8                        1                         0.11   \n",
       "2               9                        1                         0.49   \n",
       "3               7                        0                         0.30   \n",
       "4               8                        1                         0.12   \n",
       "\n",
       "   Hostile_Nations  Active_Threats  Inactive_Threats  Citizen_Fear_Index  \\\n",
       "0                3             6.0              25.0            0.787812   \n",
       "1                2            38.0              48.0            0.419236   \n",
       "2                3            32.0              69.0            0.582232   \n",
       "3                2            31.0              52.0            0.589574   \n",
       "4                5            13.0              42.0            0.552863   \n",
       "\n",
       "   Closest_Threat_Distance(km)  Aircraft_Carriers_Responding  \\\n",
       "0                       324.36                             1   \n",
       "1                       359.34                             0   \n",
       "2                       332.84                             1   \n",
       "3                       358.28                             1   \n",
       "4                       364.64                             0   \n",
       "\n",
       "   Troops_Mobilized(thousands)  DEFCON_Level     ID  \n",
       "0                     862400.0             3   7570  \n",
       "1                     959200.0             4  12128  \n",
       "2                     836000.0             3   2181  \n",
       "3                     924000.0             3   5946  \n",
       "4                     968000.0             2   9054  "
      ]
     },
     "execution_count": 1013,
     "metadata": {},
     "output_type": "execute_result"
    }
   ],
   "source": [
    "X_train.head()"
   ]
  },
  {
   "cell_type": "code",
   "execution_count": 1014,
   "metadata": {},
   "outputs": [],
   "source": [
    "y_train = X_train['DEFCON_Level']"
   ]
  },
  {
   "cell_type": "code",
   "execution_count": 1015,
   "metadata": {},
   "outputs": [
    {
     "data": {
      "text/plain": [
       "(10000, 12)"
      ]
     },
     "execution_count": 1015,
     "metadata": {},
     "output_type": "execute_result"
    }
   ],
   "source": [
    "X_train.shape"
   ]
  },
  {
   "cell_type": "code",
   "execution_count": 1016,
   "metadata": {},
   "outputs": [],
   "source": [
    "X_test = pd.read_csv('test.csv')"
   ]
  },
  {
   "cell_type": "code",
   "execution_count": 1017,
   "metadata": {},
   "outputs": [
    {
     "data": {
      "text/plain": [
       "(2500, 11)"
      ]
     },
     "execution_count": 1017,
     "metadata": {},
     "output_type": "execute_result"
    }
   ],
   "source": [
    "X_test.shape"
   ]
  },
  {
   "cell_type": "code",
   "execution_count": 1018,
   "metadata": {},
   "outputs": [
    {
     "data": {
      "text/html": [
       "<div>\n",
       "<style scoped>\n",
       "    .dataframe tbody tr th:only-of-type {\n",
       "        vertical-align: middle;\n",
       "    }\n",
       "\n",
       "    .dataframe tbody tr th {\n",
       "        vertical-align: top;\n",
       "    }\n",
       "\n",
       "    .dataframe thead th {\n",
       "        text-align: right;\n",
       "    }\n",
       "</style>\n",
       "<table border=\"1\" class=\"dataframe\">\n",
       "  <thead>\n",
       "    <tr style=\"text-align: right;\">\n",
       "      <th></th>\n",
       "      <th>Allied_Nations</th>\n",
       "      <th>Diplomatic_Meetings_Set</th>\n",
       "      <th>Percent_Of_Forces_Mobilized</th>\n",
       "      <th>Hostile_Nations</th>\n",
       "      <th>Active_Threats</th>\n",
       "      <th>Inactive_Threats</th>\n",
       "      <th>Citizen_Fear_Index</th>\n",
       "      <th>Closest_Threat_Distance(km)</th>\n",
       "      <th>Aircraft_Carriers_Responding</th>\n",
       "      <th>Troops_Mobilized(thousands)</th>\n",
       "      <th>ID</th>\n",
       "    </tr>\n",
       "  </thead>\n",
       "  <tbody>\n",
       "    <tr>\n",
       "      <th>0</th>\n",
       "      <td>8</td>\n",
       "      <td>0</td>\n",
       "      <td>0.52</td>\n",
       "      <td>2</td>\n",
       "      <td>19.0</td>\n",
       "      <td>52.0</td>\n",
       "      <td>0.376652</td>\n",
       "      <td>319.06</td>\n",
       "      <td>1</td>\n",
       "      <td>976800.0</td>\n",
       "      <td>1</td>\n",
       "    </tr>\n",
       "    <tr>\n",
       "      <th>1</th>\n",
       "      <td>9</td>\n",
       "      <td>0</td>\n",
       "      <td>0.44</td>\n",
       "      <td>2</td>\n",
       "      <td>6.0</td>\n",
       "      <td>12.0</td>\n",
       "      <td>0.254772</td>\n",
       "      <td>351.92</td>\n",
       "      <td>1</td>\n",
       "      <td>1082400.0</td>\n",
       "      <td>10</td>\n",
       "    </tr>\n",
       "    <tr>\n",
       "      <th>2</th>\n",
       "      <td>8</td>\n",
       "      <td>0</td>\n",
       "      <td>0.44</td>\n",
       "      <td>3</td>\n",
       "      <td>7.0</td>\n",
       "      <td>18.0</td>\n",
       "      <td>0.472100</td>\n",
       "      <td>349.80</td>\n",
       "      <td>1</td>\n",
       "      <td>924000.0</td>\n",
       "      <td>14</td>\n",
       "    </tr>\n",
       "    <tr>\n",
       "      <th>3</th>\n",
       "      <td>10</td>\n",
       "      <td>0</td>\n",
       "      <td>0.39</td>\n",
       "      <td>2</td>\n",
       "      <td>3.0</td>\n",
       "      <td>13.0</td>\n",
       "      <td>0.478708</td>\n",
       "      <td>343.44</td>\n",
       "      <td>1</td>\n",
       "      <td>1003200.0</td>\n",
       "      <td>17</td>\n",
       "    </tr>\n",
       "    <tr>\n",
       "      <th>4</th>\n",
       "      <td>9</td>\n",
       "      <td>0</td>\n",
       "      <td>0.44</td>\n",
       "      <td>2</td>\n",
       "      <td>6.0</td>\n",
       "      <td>14.0</td>\n",
       "      <td>0.561674</td>\n",
       "      <td>346.62</td>\n",
       "      <td>1</td>\n",
       "      <td>924000.0</td>\n",
       "      <td>21</td>\n",
       "    </tr>\n",
       "  </tbody>\n",
       "</table>\n",
       "</div>"
      ],
      "text/plain": [
       "   Allied_Nations  Diplomatic_Meetings_Set  Percent_Of_Forces_Mobilized  \\\n",
       "0               8                        0                         0.52   \n",
       "1               9                        0                         0.44   \n",
       "2               8                        0                         0.44   \n",
       "3              10                        0                         0.39   \n",
       "4               9                        0                         0.44   \n",
       "\n",
       "   Hostile_Nations  Active_Threats  Inactive_Threats  Citizen_Fear_Index  \\\n",
       "0                2            19.0              52.0            0.376652   \n",
       "1                2             6.0              12.0            0.254772   \n",
       "2                3             7.0              18.0            0.472100   \n",
       "3                2             3.0              13.0            0.478708   \n",
       "4                2             6.0              14.0            0.561674   \n",
       "\n",
       "   Closest_Threat_Distance(km)  Aircraft_Carriers_Responding  \\\n",
       "0                       319.06                             1   \n",
       "1                       351.92                             1   \n",
       "2                       349.80                             1   \n",
       "3                       343.44                             1   \n",
       "4                       346.62                             1   \n",
       "\n",
       "   Troops_Mobilized(thousands)  ID  \n",
       "0                     976800.0   1  \n",
       "1                    1082400.0  10  \n",
       "2                     924000.0  14  \n",
       "3                    1003200.0  17  \n",
       "4                     924000.0  21  "
      ]
     },
     "execution_count": 1018,
     "metadata": {},
     "output_type": "execute_result"
    }
   ],
   "source": [
    "X_test.head()"
   ]
  },
  {
   "cell_type": "code",
   "execution_count": 1019,
   "metadata": {},
   "outputs": [],
   "source": [
    "X_train = X_train.drop(['ID', 'DEFCON_Level'], axis=1)"
   ]
  },
  {
   "cell_type": "code",
   "execution_count": 1010,
   "metadata": {},
   "outputs": [],
   "source": [
    "from sklearn import preprocessing\n",
    "\n",
    "x = X_train.values\n",
    "min_max_scaler = preprocessing.Normalizer()\n",
    "x_scaled = min_max_scaler.fit_transform(x)\n",
    "X_train = pd.DataFrame(x_scaled, columns=X_train.columns)"
   ]
  },
  {
   "cell_type": "code",
   "execution_count": 1020,
   "metadata": {},
   "outputs": [
    {
     "data": {
      "text/html": [
       "<div>\n",
       "<style scoped>\n",
       "    .dataframe tbody tr th:only-of-type {\n",
       "        vertical-align: middle;\n",
       "    }\n",
       "\n",
       "    .dataframe tbody tr th {\n",
       "        vertical-align: top;\n",
       "    }\n",
       "\n",
       "    .dataframe thead th {\n",
       "        text-align: right;\n",
       "    }\n",
       "</style>\n",
       "<table border=\"1\" class=\"dataframe\">\n",
       "  <thead>\n",
       "    <tr style=\"text-align: right;\">\n",
       "      <th></th>\n",
       "      <th>Allied_Nations</th>\n",
       "      <th>Diplomatic_Meetings_Set</th>\n",
       "      <th>Percent_Of_Forces_Mobilized</th>\n",
       "      <th>Hostile_Nations</th>\n",
       "      <th>Active_Threats</th>\n",
       "      <th>Inactive_Threats</th>\n",
       "      <th>Citizen_Fear_Index</th>\n",
       "      <th>Closest_Threat_Distance(km)</th>\n",
       "      <th>Aircraft_Carriers_Responding</th>\n",
       "      <th>Troops_Mobilized(thousands)</th>\n",
       "    </tr>\n",
       "  </thead>\n",
       "  <tbody>\n",
       "    <tr>\n",
       "      <th>0</th>\n",
       "      <td>16</td>\n",
       "      <td>1</td>\n",
       "      <td>0.67</td>\n",
       "      <td>3</td>\n",
       "      <td>6.0</td>\n",
       "      <td>25.0</td>\n",
       "      <td>0.787812</td>\n",
       "      <td>324.36</td>\n",
       "      <td>1</td>\n",
       "      <td>862400.0</td>\n",
       "    </tr>\n",
       "    <tr>\n",
       "      <th>1</th>\n",
       "      <td>8</td>\n",
       "      <td>1</td>\n",
       "      <td>0.11</td>\n",
       "      <td>2</td>\n",
       "      <td>38.0</td>\n",
       "      <td>48.0</td>\n",
       "      <td>0.419236</td>\n",
       "      <td>359.34</td>\n",
       "      <td>0</td>\n",
       "      <td>959200.0</td>\n",
       "    </tr>\n",
       "    <tr>\n",
       "      <th>2</th>\n",
       "      <td>9</td>\n",
       "      <td>1</td>\n",
       "      <td>0.49</td>\n",
       "      <td>3</td>\n",
       "      <td>32.0</td>\n",
       "      <td>69.0</td>\n",
       "      <td>0.582232</td>\n",
       "      <td>332.84</td>\n",
       "      <td>1</td>\n",
       "      <td>836000.0</td>\n",
       "    </tr>\n",
       "    <tr>\n",
       "      <th>3</th>\n",
       "      <td>7</td>\n",
       "      <td>0</td>\n",
       "      <td>0.30</td>\n",
       "      <td>2</td>\n",
       "      <td>31.0</td>\n",
       "      <td>52.0</td>\n",
       "      <td>0.589574</td>\n",
       "      <td>358.28</td>\n",
       "      <td>1</td>\n",
       "      <td>924000.0</td>\n",
       "    </tr>\n",
       "    <tr>\n",
       "      <th>4</th>\n",
       "      <td>8</td>\n",
       "      <td>1</td>\n",
       "      <td>0.12</td>\n",
       "      <td>5</td>\n",
       "      <td>13.0</td>\n",
       "      <td>42.0</td>\n",
       "      <td>0.552863</td>\n",
       "      <td>364.64</td>\n",
       "      <td>0</td>\n",
       "      <td>968000.0</td>\n",
       "    </tr>\n",
       "  </tbody>\n",
       "</table>\n",
       "</div>"
      ],
      "text/plain": [
       "   Allied_Nations  Diplomatic_Meetings_Set  Percent_Of_Forces_Mobilized  \\\n",
       "0              16                        1                         0.67   \n",
       "1               8                        1                         0.11   \n",
       "2               9                        1                         0.49   \n",
       "3               7                        0                         0.30   \n",
       "4               8                        1                         0.12   \n",
       "\n",
       "   Hostile_Nations  Active_Threats  Inactive_Threats  Citizen_Fear_Index  \\\n",
       "0                3             6.0              25.0            0.787812   \n",
       "1                2            38.0              48.0            0.419236   \n",
       "2                3            32.0              69.0            0.582232   \n",
       "3                2            31.0              52.0            0.589574   \n",
       "4                5            13.0              42.0            0.552863   \n",
       "\n",
       "   Closest_Threat_Distance(km)  Aircraft_Carriers_Responding  \\\n",
       "0                       324.36                             1   \n",
       "1                       359.34                             0   \n",
       "2                       332.84                             1   \n",
       "3                       358.28                             1   \n",
       "4                       364.64                             0   \n",
       "\n",
       "   Troops_Mobilized(thousands)  \n",
       "0                     862400.0  \n",
       "1                     959200.0  \n",
       "2                     836000.0  \n",
       "3                     924000.0  \n",
       "4                     968000.0  "
      ]
     },
     "execution_count": 1020,
     "metadata": {},
     "output_type": "execute_result"
    }
   ],
   "source": [
    "X_train.head()"
   ]
  },
  {
   "cell_type": "code",
   "execution_count": 1021,
   "metadata": {},
   "outputs": [],
   "source": [
    "ids = X_test['ID']"
   ]
  },
  {
   "cell_type": "code",
   "execution_count": 1022,
   "metadata": {},
   "outputs": [],
   "source": [
    "X_test = X_test.drop('ID', axis=1)"
   ]
  },
  {
   "cell_type": "code",
   "execution_count": 687,
   "metadata": {},
   "outputs": [],
   "source": [
    "X_train['Total_Threats'] = (X_train['Active_Threats'] + X_train['Inactive_Threats']).values\n",
    "X_train['Threat_Percent'] = (X_train['Active_Threats'] / X_train['Total_Threats']).values\n",
    "\n",
    "X_test['Total_Threats'] = (X_test['Active_Threats'] + X_test['Inactive_Threats']).values\n",
    "X_test['Threat_Percent'] = (X_test['Active_Threats'] / X_test['Total_Threats']).values"
   ]
  },
  {
   "cell_type": "code",
   "execution_count": null,
   "metadata": {},
   "outputs": [],
   "source": [
    "X_train = X_train.drop('Active_Threats', axis=1)\n",
    "X_test = X_test.drop('Active_Threats', axis=1)\n",
    "\n",
    "X_train = X_train.drop('Inactive_Threats', axis=1)\n",
    "X_test = X_test.drop('Inactive_Threats', axis=1)"
   ]
  },
  {
   "cell_type": "code",
   "execution_count": 772,
   "metadata": {},
   "outputs": [
    {
     "data": {
      "text/html": [
       "<div>\n",
       "<style scoped>\n",
       "    .dataframe tbody tr th:only-of-type {\n",
       "        vertical-align: middle;\n",
       "    }\n",
       "\n",
       "    .dataframe tbody tr th {\n",
       "        vertical-align: top;\n",
       "    }\n",
       "\n",
       "    .dataframe thead th {\n",
       "        text-align: right;\n",
       "    }\n",
       "</style>\n",
       "<table border=\"1\" class=\"dataframe\">\n",
       "  <thead>\n",
       "    <tr style=\"text-align: right;\">\n",
       "      <th></th>\n",
       "      <th>Allied_Nations</th>\n",
       "      <th>Diplomatic_Meetings_Set</th>\n",
       "      <th>Percent_Of_Forces_Mobilized</th>\n",
       "      <th>Hostile_Nations</th>\n",
       "      <th>Active_Threats</th>\n",
       "      <th>Inactive_Threats</th>\n",
       "      <th>Citizen_Fear_Index</th>\n",
       "      <th>Closest_Threat_Distance(km)</th>\n",
       "      <th>Aircraft_Carriers_Responding</th>\n",
       "      <th>Troops_Mobilized(thousands)</th>\n",
       "    </tr>\n",
       "  </thead>\n",
       "  <tbody>\n",
       "    <tr>\n",
       "      <th>0</th>\n",
       "      <td>16</td>\n",
       "      <td>1</td>\n",
       "      <td>0.67</td>\n",
       "      <td>3</td>\n",
       "      <td>6.0</td>\n",
       "      <td>25.0</td>\n",
       "      <td>0.787812</td>\n",
       "      <td>324.36</td>\n",
       "      <td>1</td>\n",
       "      <td>862400.0</td>\n",
       "    </tr>\n",
       "    <tr>\n",
       "      <th>1</th>\n",
       "      <td>8</td>\n",
       "      <td>1</td>\n",
       "      <td>0.11</td>\n",
       "      <td>2</td>\n",
       "      <td>38.0</td>\n",
       "      <td>48.0</td>\n",
       "      <td>0.419236</td>\n",
       "      <td>359.34</td>\n",
       "      <td>0</td>\n",
       "      <td>959200.0</td>\n",
       "    </tr>\n",
       "    <tr>\n",
       "      <th>2</th>\n",
       "      <td>9</td>\n",
       "      <td>1</td>\n",
       "      <td>0.49</td>\n",
       "      <td>3</td>\n",
       "      <td>32.0</td>\n",
       "      <td>69.0</td>\n",
       "      <td>0.582232</td>\n",
       "      <td>332.84</td>\n",
       "      <td>1</td>\n",
       "      <td>836000.0</td>\n",
       "    </tr>\n",
       "    <tr>\n",
       "      <th>3</th>\n",
       "      <td>7</td>\n",
       "      <td>0</td>\n",
       "      <td>0.30</td>\n",
       "      <td>2</td>\n",
       "      <td>31.0</td>\n",
       "      <td>52.0</td>\n",
       "      <td>0.589574</td>\n",
       "      <td>358.28</td>\n",
       "      <td>1</td>\n",
       "      <td>924000.0</td>\n",
       "    </tr>\n",
       "    <tr>\n",
       "      <th>4</th>\n",
       "      <td>8</td>\n",
       "      <td>1</td>\n",
       "      <td>0.12</td>\n",
       "      <td>5</td>\n",
       "      <td>13.0</td>\n",
       "      <td>42.0</td>\n",
       "      <td>0.552863</td>\n",
       "      <td>364.64</td>\n",
       "      <td>0</td>\n",
       "      <td>968000.0</td>\n",
       "    </tr>\n",
       "  </tbody>\n",
       "</table>\n",
       "</div>"
      ],
      "text/plain": [
       "   Allied_Nations  Diplomatic_Meetings_Set  Percent_Of_Forces_Mobilized  \\\n",
       "0              16                        1                         0.67   \n",
       "1               8                        1                         0.11   \n",
       "2               9                        1                         0.49   \n",
       "3               7                        0                         0.30   \n",
       "4               8                        1                         0.12   \n",
       "\n",
       "   Hostile_Nations  Active_Threats  Inactive_Threats  Citizen_Fear_Index  \\\n",
       "0                3             6.0              25.0            0.787812   \n",
       "1                2            38.0              48.0            0.419236   \n",
       "2                3            32.0              69.0            0.582232   \n",
       "3                2            31.0              52.0            0.589574   \n",
       "4                5            13.0              42.0            0.552863   \n",
       "\n",
       "   Closest_Threat_Distance(km)  Aircraft_Carriers_Responding  \\\n",
       "0                       324.36                             1   \n",
       "1                       359.34                             0   \n",
       "2                       332.84                             1   \n",
       "3                       358.28                             1   \n",
       "4                       364.64                             0   \n",
       "\n",
       "   Troops_Mobilized(thousands)  \n",
       "0                     862400.0  \n",
       "1                     959200.0  \n",
       "2                     836000.0  \n",
       "3                     924000.0  \n",
       "4                     968000.0  "
      ]
     },
     "execution_count": 772,
     "metadata": {},
     "output_type": "execute_result"
    }
   ],
   "source": [
    "X_train.head()"
   ]
  },
  {
   "cell_type": "code",
   "execution_count": 585,
   "metadata": {},
   "outputs": [],
   "source": [
    "x = X_test.values\n",
    "min_max_scaler = preprocessing.Normalizer()\n",
    "x_scaled = min_max_scaler.fit_transform(x)\n",
    "X_test = pd.DataFrame(x_scaled, columns=X_test.columns)\n",
    "\n",
    "#scaler = preprocessing.StandardScaler()\n",
    "#scaler.fit(X_train)\n",
    "\n",
    "# Apply transform to both the training set and the test set.\n",
    "#X_train = scaler.transform(X_train)\n",
    "#X_test = scaler.transform(X_test)"
   ]
  },
  {
   "cell_type": "code",
   "execution_count": 1023,
   "metadata": {},
   "outputs": [],
   "source": [
    "from sklearn.model_selection import GridSearchCV"
   ]
  },
  {
   "cell_type": "code",
   "execution_count": 50,
   "metadata": {},
   "outputs": [
    {
     "name": "stdout",
     "output_type": "stream",
     "text": [
      "Fitting 10 folds for each of 1 candidates, totalling 10 fits\n"
     ]
    },
    {
     "name": "stderr",
     "output_type": "stream",
     "text": [
      "[Parallel(n_jobs=-1)]: Using backend LokyBackend with 12 concurrent workers.\n",
      "[Parallel(n_jobs=-1)]: Done   5 out of  10 | elapsed:    2.5s remaining:    2.5s\n",
      "[Parallel(n_jobs=-1)]: Done  10 out of  10 | elapsed:    2.6s finished\n"
     ]
    },
    {
     "data": {
      "text/plain": [
       "GridSearchCV(cv=10, error_score=nan,\n",
       "             estimator=RandomForestClassifier(bootstrap=True, ccp_alpha=0.0,\n",
       "                                              class_weight=None,\n",
       "                                              criterion='gini', max_depth=None,\n",
       "                                              max_features='auto',\n",
       "                                              max_leaf_nodes=None,\n",
       "                                              max_samples=None,\n",
       "                                              min_impurity_decrease=0.0,\n",
       "                                              min_impurity_split=None,\n",
       "                                              min_samples_leaf=1,\n",
       "                                              min_samples_split=2,\n",
       "                                              min_weight_fraction_leaf=0.0,\n",
       "                                              n_estimators=100, n_jobs=None,\n",
       "                                              oob_score=False, random_state=42,\n",
       "                                              verbose=0, warm_start=False),\n",
       "             iid='deprecated', n_jobs=-1,\n",
       "             param_grid={'criterion': ['entropy'], 'max_depth': [17],\n",
       "                         'max_features': ['auto'], 'min_samples_leaf': [7],\n",
       "                         'min_samples_split': [7], 'n_estimators': [170]},\n",
       "             pre_dispatch='2*n_jobs', refit=True, return_train_score=False,\n",
       "             scoring=None, verbose=2)"
      ]
     },
     "execution_count": 50,
     "metadata": {},
     "output_type": "execute_result"
    }
   ],
   "source": [
    "from sklearn.ensemble import RandomForestClassifier\n",
    "\n",
    "'''\n",
    "param_grid = { \n",
    "    'n_estimators': [10, 20, 30, 40],\n",
    "    'max_features': ['auto', 'sqrt', 'log2'],\n",
    "    'max_depth' : [4, 5, 6, 7, 8],\n",
    "    'criterion' :['gini', 'entropy'],\n",
    "    'min_samples_leaf': [9, 10, 11, 12],\n",
    "    'min_samples_split': [9, 10, 11, 12]\n",
    "}\n",
    "'''\n",
    "\n",
    "param_grid = { \n",
    "    'n_estimators': [170],\n",
    "    'max_features': ['auto'],\n",
    "    'max_depth' : [17],\n",
    "    'criterion' :['entropy'],\n",
    "    'min_samples_leaf': [7],\n",
    "    'min_samples_split': [7]\n",
    "}\n",
    "\n",
    "classifier = RandomForestClassifier(random_state = 42)\n",
    "\n",
    "CV_rfc = GridSearchCV(estimator=classifier,\n",
    "                      param_grid=param_grid,\n",
    "                      cv = 10,\n",
    "                      n_jobs = -1,\n",
    "                      verbose = 2)\n",
    "\n",
    "CV_rfc.fit(X_train, y_train)"
   ]
  },
  {
   "cell_type": "code",
   "execution_count": 51,
   "metadata": {},
   "outputs": [
    {
     "name": "stdout",
     "output_type": "stream",
     "text": [
      "{'criterion': 'entropy', 'max_depth': 17, 'max_features': 'auto', 'min_samples_leaf': 7, 'min_samples_split': 7, 'n_estimators': 170}\n",
      "0.6368\n"
     ]
    }
   ],
   "source": [
    "print(CV_rfc.best_params_)\n",
    "print(CV_rfc.best_score_)"
   ]
  },
  {
   "cell_type": "code",
   "execution_count": 57,
   "metadata": {},
   "outputs": [
    {
     "data": {
      "text/plain": [
       "RandomForestClassifier(bootstrap=True, ccp_alpha=0.0, class_weight=None,\n",
       "                       criterion='entropy', max_depth=17, max_features='auto',\n",
       "                       max_leaf_nodes=None, max_samples=None,\n",
       "                       min_impurity_decrease=0.0, min_impurity_split=None,\n",
       "                       min_samples_leaf=7, min_samples_split=7,\n",
       "                       min_weight_fraction_leaf=0.0, n_estimators=170,\n",
       "                       n_jobs=None, oob_score=False, random_state=42, verbose=0,\n",
       "                       warm_start=False)"
      ]
     },
     "execution_count": 57,
     "metadata": {},
     "output_type": "execute_result"
    }
   ],
   "source": [
    "classifier = RandomForestClassifier(random_state = 42,\n",
    "                                    max_features = 'auto',\n",
    "                                    n_estimators = 170,\n",
    "                                    max_depth = 17,\n",
    "                                    min_samples_leaf = 7,\n",
    "                                    min_samples_split = 7,\n",
    "                                    criterion = 'entropy')\n",
    "\n",
    "classifier.fit(X_train, y_train)"
   ]
  },
  {
   "cell_type": "code",
   "execution_count": 44,
   "metadata": {},
   "outputs": [
    {
     "data": {
      "text/plain": [
       "array([0.04307164, 0.04121716, 0.12437399, 0.01653045, 0.09750076,\n",
       "       0.14195364, 0.13821954, 0.10084389, 0.01930877, 0.27698017])"
      ]
     },
     "execution_count": 44,
     "metadata": {},
     "output_type": "execute_result"
    }
   ],
   "source": [
    "classifier.feature_importances_"
   ]
  },
  {
   "cell_type": "code",
   "execution_count": 1024,
   "metadata": {},
   "outputs": [],
   "source": [
    "from xgboost import XGBClassifier"
   ]
  },
  {
   "cell_type": "code",
   "execution_count": 72,
   "metadata": {},
   "outputs": [
    {
     "name": "stdout",
     "output_type": "stream",
     "text": [
      "Fitting 10 folds for each of 1 candidates, totalling 10 fits\n"
     ]
    },
    {
     "name": "stderr",
     "output_type": "stream",
     "text": [
      "[Parallel(n_jobs=-1)]: Using backend LokyBackend with 12 concurrent workers.\n",
      "[Parallel(n_jobs=-1)]: Done   5 out of  10 | elapsed:   20.6s remaining:   20.6s\n",
      "[Parallel(n_jobs=-1)]: Done  10 out of  10 | elapsed:   21.0s finished\n"
     ]
    },
    {
     "data": {
      "text/plain": [
       "GridSearchCV(cv=10, error_score=nan,\n",
       "             estimator=XGBClassifier(base_score=0.5, booster='gbtree',\n",
       "                                     colsample_bylevel=1, colsample_bynode=1,\n",
       "                                     colsample_bytree=1, gamma=0,\n",
       "                                     learning_rate=0.1, max_delta_step=0,\n",
       "                                     max_depth=3, min_child_weight=1,\n",
       "                                     missing=None, n_estimators=100, n_jobs=1,\n",
       "                                     nthread=None, objective='binary:logistic',\n",
       "                                     random_state=97, reg_alpha=0, reg_lambda=1,\n",
       "                                     scale_...\n",
       "                                     subsample=1, verbosity=1),\n",
       "             iid='deprecated', n_jobs=-1,\n",
       "             param_grid={'criterion': ['friedman_mse'], 'gamma': [0.5],\n",
       "                         'learning_rate': [0.01], 'max_depth': [17],\n",
       "                         'max_features': ['log2'], 'min_child_weight': [6],\n",
       "                         'min_samples_leaf': [2], 'min_samples_split': [2],\n",
       "                         'n_estimators': [170], 'warm_start': [True]},\n",
       "             pre_dispatch='2*n_jobs', refit=True, return_train_score=False,\n",
       "             scoring=None, verbose=2)"
      ]
     },
     "execution_count": 72,
     "metadata": {},
     "output_type": "execute_result"
    }
   ],
   "source": [
    "parameters = {\n",
    "    \"learning_rate\": [0.01],\n",
    "    \"min_samples_split\": [2],\n",
    "    \"min_samples_leaf\": [2],\n",
    "    \"max_depth\": [17],\n",
    "    \"max_features\": [\"log2\"],\n",
    "    \"min_child_weight\": [6],\n",
    "    \"gamma\": [0.5],\n",
    "    \"criterion\": [\"friedman_mse\"],\n",
    "    \"n_estimators\": [170],\n",
    "    \"warm_start\": [True]\n",
    "    }\n",
    "\n",
    "classifier = GridSearchCV(XGBClassifier(random_state=97), parameters, cv=10, n_jobs=-1, verbose=2)\n",
    "\n",
    "classifier.fit(X_train, y_train)"
   ]
  },
  {
   "cell_type": "code",
   "execution_count": 73,
   "metadata": {},
   "outputs": [
    {
     "name": "stdout",
     "output_type": "stream",
     "text": [
      "{'criterion': 'friedman_mse', 'gamma': 0.5, 'learning_rate': 0.01, 'max_depth': 17, 'max_features': 'log2', 'min_child_weight': 6, 'min_samples_leaf': 2, 'min_samples_split': 2, 'n_estimators': 170, 'warm_start': True}\n",
      "0.631\n"
     ]
    }
   ],
   "source": [
    "print(classifier.best_params_)\n",
    "print(classifier.best_score_)"
   ]
  },
  {
   "cell_type": "code",
   "execution_count": 831,
   "metadata": {},
   "outputs": [
    {
     "name": "stdout",
     "output_type": "stream",
     "text": [
      "Diplomatic_Meetings_Set vs Allied_Nations - corr: 0.27877863099499894\n",
      "Percent_Of_Forces_Mobilized vs Allied_Nations - corr: 0.6503081374972499\n",
      "Percent_Of_Forces_Mobilized vs Diplomatic_Meetings_Set - corr: 0.5761155255649838\n",
      "Hostile_Nations vs Allied_Nations - corr: 0.11189618077462829\n",
      "Hostile_Nations vs Diplomatic_Meetings_Set - corr: 0.03666177822031956\n",
      "Hostile_Nations vs Percent_Of_Forces_Mobilized - corr: 0.14931669382375967\n",
      "Active_Threats vs Allied_Nations - corr: 0.11360946929376282\n",
      "Active_Threats vs Diplomatic_Meetings_Set - corr: 0.01904588513942546\n",
      "Active_Threats vs Percent_Of_Forces_Mobilized - corr: 0.0366747744119645\n",
      "Active_Threats vs Hostile_Nations - corr: 0.1467728985291254\n",
      "Inactive_Threats vs Allied_Nations - corr: 0.06749585189845306\n",
      "Inactive_Threats vs Diplomatic_Meetings_Set - corr: 0.08900679509333226\n",
      "Inactive_Threats vs Percent_Of_Forces_Mobilized - corr: 0.05447365279741348\n",
      "Inactive_Threats vs Hostile_Nations - corr: 0.2202518828668336\n",
      "Inactive_Threats vs Active_Threats - corr: 0.6749704282261905\n",
      "Citizen_Fear_Index vs Allied_Nations - corr: 0.6476036283716523\n",
      "Citizen_Fear_Index vs Diplomatic_Meetings_Set - corr: 0.030756277861277017\n",
      "Citizen_Fear_Index vs Percent_Of_Forces_Mobilized - corr: 0.35732367023019684\n",
      "Citizen_Fear_Index vs Hostile_Nations - corr: 0.2992442619399713\n",
      "Citizen_Fear_Index vs Active_Threats - corr: 0.009509692293957107\n",
      "Citizen_Fear_Index vs Inactive_Threats - corr: 0.10329645990934057\n",
      "Closest_Threat_Distance(km) vs Allied_Nations - corr: 0.6685211365045033\n",
      "Closest_Threat_Distance(km) vs Diplomatic_Meetings_Set - corr: 0.2411554301202455\n",
      "Closest_Threat_Distance(km) vs Percent_Of_Forces_Mobilized - corr: 0.5293144444156169\n",
      "Closest_Threat_Distance(km) vs Hostile_Nations - corr: 0.08172397216115408\n",
      "Closest_Threat_Distance(km) vs Active_Threats - corr: 0.03470038263685973\n",
      "Closest_Threat_Distance(km) vs Inactive_Threats - corr: 0.08466960858626732\n",
      "Closest_Threat_Distance(km) vs Citizen_Fear_Index - corr: 0.33692932212244625\n",
      "Aircraft_Carriers_Responding vs Allied_Nations - corr: 0.09635173946989682\n",
      "Aircraft_Carriers_Responding vs Diplomatic_Meetings_Set - corr: 0.10649936489033483\n",
      "Aircraft_Carriers_Responding vs Percent_Of_Forces_Mobilized - corr: 0.16698908361638976\n",
      "Aircraft_Carriers_Responding vs Hostile_Nations - corr: 0.004865138052357593\n",
      "Aircraft_Carriers_Responding vs Active_Threats - corr: 0.023316791933280918\n",
      "Aircraft_Carriers_Responding vs Inactive_Threats - corr: 0.004198503408805397\n",
      "Aircraft_Carriers_Responding vs Citizen_Fear_Index - corr: 0.08554040214361233\n",
      "Aircraft_Carriers_Responding vs Closest_Threat_Distance(km) - corr: 0.008635886283089525\n",
      "Troops_Mobilized(thousands) vs Allied_Nations - corr: 0.11007052753246653\n",
      "Troops_Mobilized(thousands) vs Diplomatic_Meetings_Set - corr: 0.20156147224000234\n",
      "Troops_Mobilized(thousands) vs Percent_Of_Forces_Mobilized - corr: 0.08587009314662611\n",
      "Troops_Mobilized(thousands) vs Hostile_Nations - corr: 0.02510328676967362\n",
      "Troops_Mobilized(thousands) vs Active_Threats - corr: 0.08418819445717723\n",
      "Troops_Mobilized(thousands) vs Inactive_Threats - corr: 0.22794078883564534\n",
      "Troops_Mobilized(thousands) vs Citizen_Fear_Index - corr: 0.49530538271693225\n",
      "Troops_Mobilized(thousands) vs Closest_Threat_Distance(km) - corr: 0.17700750398214052\n",
      "Troops_Mobilized(thousands) vs Aircraft_Carriers_Responding - corr: 0.07381861430452342\n"
     ]
    }
   ],
   "source": [
    "correlated_features = set()\n",
    "correlation_matrix = X_train.corr()\n",
    "\n",
    "for i in range(len(correlation_matrix.columns)):\n",
    "    for j in range(i):\n",
    "        print(\"{0} vs {1} - corr: {2}\".format(correlation_matrix.columns[i],\n",
    "                                              correlation_matrix.columns[j],\n",
    "                                              abs(correlation_matrix.iloc[i, j])))\n",
    "        \n",
    "        if abs(correlation_matrix.iloc[i, j]) > 0.8:\n",
    "            colname = correlation_matrix.columns[i]\n",
    "            correlated_features.add(colname)"
   ]
  },
  {
   "cell_type": "code",
   "execution_count": 828,
   "metadata": {},
   "outputs": [
    {
     "data": {
      "text/plain": [
       "set()"
      ]
     },
     "execution_count": 828,
     "metadata": {},
     "output_type": "execute_result"
    }
   ],
   "source": [
    "correlated_features"
   ]
  },
  {
   "cell_type": "code",
   "execution_count": 833,
   "metadata": {},
   "outputs": [],
   "source": [
    "from sklearn.model_selection import StratifiedKFold\n",
    "from sklearn.feature_selection import RFECV"
   ]
  },
  {
   "cell_type": "code",
   "execution_count": 835,
   "metadata": {},
   "outputs": [
    {
     "data": {
      "text/plain": [
       "RFECV(cv=StratifiedKFold(n_splits=10, random_state=None, shuffle=False),\n",
       "      estimator=XGBClassifier(base_score=0.5, booster='gbtree',\n",
       "                              colsample_bylevel=1, colsample_bynode=1,\n",
       "                              colsample_bytree=1, gamma=0, learning_rate=0.1,\n",
       "                              max_delta_step=0, max_depth=3, min_child_weight=1,\n",
       "                              missing=None, n_estimators=100, n_jobs=1,\n",
       "                              nthread=None, objective='binary:logistic',\n",
       "                              random_state=97, reg_alpha=0, reg_lambda=1,\n",
       "                              scale_pos_weight=1, seed=None, silent=None,\n",
       "                              subsample=1, verbosity=1),\n",
       "      min_features_to_select=1, n_jobs=None, scoring='accuracy', step=1,\n",
       "      verbose=0)"
      ]
     },
     "execution_count": 835,
     "metadata": {},
     "output_type": "execute_result"
    }
   ],
   "source": [
    "classifier = XGBClassifier(random_state = 97)\n",
    "\n",
    "rfecv = RFECV(estimator=classifier, step=1, cv=StratifiedKFold(10), scoring='accuracy')\n",
    "rfecv.fit(X_train, y_train)"
   ]
  },
  {
   "cell_type": "code",
   "execution_count": 836,
   "metadata": {},
   "outputs": [
    {
     "name": "stdout",
     "output_type": "stream",
     "text": [
      "Optimal number of features: 9\n"
     ]
    }
   ],
   "source": [
    "print('Optimal number of features: {}'.format(rfecv.n_features_))"
   ]
  },
  {
   "cell_type": "code",
   "execution_count": 837,
   "metadata": {},
   "outputs": [],
   "source": [
    "%matplotlib inline\n",
    "\n",
    "import matplotlib.pyplot as plt"
   ]
  },
  {
   "cell_type": "code",
   "execution_count": 838,
   "metadata": {},
   "outputs": [
    {
     "data": {
      "image/png": "[encoded data removed]",
      "text/plain": [
       "<Figure size 1152x648 with 1 Axes>"
      ]
     },
     "metadata": {
      "needs_background": "light"
     },
     "output_type": "display_data"
    }
   ],
   "source": [
    "plt.figure(figsize=(16, 9))\n",
    "plt.title('Recursive Feature Elimination with Cross-Validation', fontsize=18, fontweight='bold', pad=20)\n",
    "plt.xlabel('Number of features selected', fontsize=14, labelpad=20)\n",
    "plt.ylabel('% Correct Classification', fontsize=14, labelpad=20)\n",
    "plt.plot(range(1, len(rfecv.grid_scores_) + 1), rfecv.grid_scores_, color='#303F9F', linewidth=3)\n",
    "\n",
    "plt.show()"
   ]
  },
  {
   "cell_type": "code",
   "execution_count": 883,
   "metadata": {},
   "outputs": [
    {
     "name": "stdout",
     "output_type": "stream",
     "text": [
      "[3]\n"
     ]
    }
   ],
   "source": [
    "print(np.where(rfecv.support_ == False)[0])"
   ]
  },
  {
   "cell_type": "code",
   "execution_count": 841,
   "metadata": {},
   "outputs": [
    {
     "name": "stdout",
     "output_type": "stream",
     "text": [
      "[0.07399655 0.12426087 0.08906123 0.05148506 0.10196422 0.05450731\n",
      " 0.0573174  0.12980984 0.31759748]\n"
     ]
    }
   ],
   "source": [
    "print(rfecv.estimator_.feature_importances_)"
   ]
  },
  {
   "cell_type": "code",
   "execution_count": 884,
   "metadata": {},
   "outputs": [],
   "source": [
    "X_train.drop(X_train.columns[np.where(rfecv.support_ == False)[0]], axis=1, inplace=True)\n",
    "X_test.drop(X_test.columns[np.where(rfecv.support_ == False)[0]], axis=1, inplace=True)"
   ]
  },
  {
   "cell_type": "code",
   "execution_count": 843,
   "metadata": {},
   "outputs": [
    {
     "data": {
      "image/png": "[encoded data removed]",
      "text/plain": [
       "<Figure size 1152x1008 with 1 Axes>"
      ]
     },
     "metadata": {
      "needs_background": "light"
     },
     "output_type": "display_data"
    }
   ],
   "source": [
    "dset = pd.DataFrame()\n",
    "dset['attr'] = X_train.columns\n",
    "dset['importance'] = rfecv.estimator_.feature_importances_\n",
    "\n",
    "dset = dset.sort_values(by='importance', ascending=False)\n",
    "\n",
    "\n",
    "plt.figure(figsize=(16, 14))\n",
    "plt.barh(y=dset['attr'], width=dset['importance'], color='#1976D2')\n",
    "plt.title('RFECV - Feature Importances', fontsize=20, fontweight='bold', pad=20)\n",
    "plt.xlabel('Importance', fontsize=14, labelpad=20)\n",
    "plt.show()"
   ]
  },
  {
   "cell_type": "code",
   "execution_count": 1025,
   "metadata": {},
   "outputs": [
    {
     "data": {
      "text/plain": [
       "XGBClassifier(base_score=0.5, booster='gbtree', colsample_bylevel=1,\n",
       "              colsample_bynode=1, colsample_bytree=1, gamma=1,\n",
       "              learning_rate=0.01, max_delta_step=1, max_depth=10,\n",
       "              max_features='auto', min_child_weight=3, missing=None,\n",
       "              n_estimators=182, n_jobs=-1, nthread=4,\n",
       "              objective='multi:softprob', random_state=97, reg_alpha=0.011,\n",
       "              reg_lambda=0.89, scale_pos_weight=1, seed=None, silent=None,\n",
       "              subsample=0.9, verbose=2, verbosity=1)"
      ]
     },
     "execution_count": 1025,
     "metadata": {},
     "output_type": "execute_result"
    }
   ],
   "source": [
    "classifier = XGBClassifier(random_state = 97,\n",
    "                           learning_rate = 0.01,\n",
    "                           max_features = 'auto',\n",
    "                           n_estimators = 182,\n",
    "                           max_depth = 10,\n",
    "                           gamma = 1,\n",
    "                           reg_lambda = 0.89,\n",
    "                           min_child_weight = 3,\n",
    "                           objective = \"multi:softmax\",\n",
    "                           nthread = 4,\n",
    "                           subsample = 0.9,\n",
    "                           reg_alpha = 0.011,\n",
    "                           max_delta_step = 1,\n",
    "                           n_jobs = -1,\n",
    "                           verbose = 2)\n",
    "\n",
    "classifier.fit(X_train, y_train)"
   ]
  },
  {
   "cell_type": "code",
   "execution_count": 1026,
   "metadata": {},
   "outputs": [],
   "source": [
    "predictions = classifier.predict(X_test)"
   ]
  },
  {
   "cell_type": "code",
   "execution_count": 1027,
   "metadata": {},
   "outputs": [
    {
     "data": {
      "text/plain": [
       "array([4, 3, 2, ..., 2, 4, 2], dtype=int64)"
      ]
     },
     "execution_count": 1027,
     "metadata": {},
     "output_type": "execute_result"
    }
   ],
   "source": [
    "predictions"
   ]
  },
  {
   "cell_type": "code",
   "execution_count": 1028,
   "metadata": {},
   "outputs": [
    {
     "data": {
      "text/plain": [
       "'\\nfor i in range(10):\\n    X_train = pd.concat([X_train , X_test])\\n    y_train = pd.concat([y_train, pd.Series(predictions)])\\n\\n    classifier.fit(X_train, y_train)\\n    predictions = classifier.predict(X_test)\\n    \\npredictions\\n'"
      ]
     },
     "execution_count": 1028,
     "metadata": {},
     "output_type": "execute_result"
    }
   ],
   "source": [
    "'''\n",
    "for i in range(10):\n",
    "    X_train = pd.concat([X_train , X_test])\n",
    "    y_train = pd.concat([y_train, pd.Series(predictions)])\n",
    "\n",
    "    classifier.fit(X_train, y_train)\n",
    "    predictions = classifier.predict(X_test)\n",
    "    \n",
    "predictions\n",
    "'''"
   ]
  },
  {
   "cell_type": "code",
   "execution_count": 1029,
   "metadata": {},
   "outputs": [
    {
     "data": {
      "text/plain": [
       "{1: 62, 2: 1193, 3: 1030, 4: 211, 5: 4}"
      ]
     },
     "execution_count": 1029,
     "metadata": {},
     "output_type": "execute_result"
    }
   ],
   "source": [
    "unique, counts = np.unique(predictions, return_counts=True)\n",
    "dict(zip(unique, counts))"
   ]
  },
  {
   "cell_type": "code",
   "execution_count": 1030,
   "metadata": {},
   "outputs": [],
   "source": [
    "results=pd.DataFrame({\"ID\":ids, \"DEFCON_Level\":predictions.ravel()})\n",
    "results.to_csv(\"results.csv\", index=False)"
   ]
  },
  {
   "cell_type": "code",
   "execution_count": 1031,
   "metadata": {},
   "outputs": [
    {
     "data": {
      "text/plain": [
       "array([0.08346295, 0.13515995, 0.08260988, 0.06130967, 0.06947494,\n",
       "       0.08807786, 0.0669209 , 0.06727917, 0.12873353, 0.2169711 ],\n",
       "      dtype=float32)"
      ]
     },
     "execution_count": 1031,
     "metadata": {},
     "output_type": "execute_result"
    }
   ],
   "source": [
    "classifier.feature_importances_"
   ]
  },
  {
   "cell_type": "code",
   "execution_count": 1032,
   "metadata": {},
   "outputs": [
    {
     "data": {
      "text/plain": [
       "array([3, 6, 7, 4, 2, 0, 5, 8, 1, 9], dtype=int64)"
      ]
     },
     "execution_count": 1032,
     "metadata": {},
     "output_type": "execute_result"
    }
   ],
   "source": [
    "np.argsort(classifier.feature_importances_)"
   ]
  },
  {
   "cell_type": "code",
   "execution_count": 697,
   "metadata": {},
   "outputs": [
    {
     "data": {
      "text/plain": [
       "{1: 62, 2: 1198, 3: 1024, 4: 212, 5: 4}"
      ]
     },
     "execution_count": 697,
     "metadata": {},
     "output_type": "execute_result"
    }
   ],
   "source": [
    "#from sklearn.linear_model import LogisticRegression\n",
    "# {1: 62, 2: 1198, 3: 1024, 4: 212, 5: 4}\n",
    "\n",
    "'''\n",
    "XGBClassifier(base_score=0.5, booster='gbtree', colsample_bylevel=1,\n",
    "              colsample_bynode=1, colsample_bytree=1, gamma=1,\n",
    "              learning_rate=0.01, max_delta_step=1, max_depth=10,\n",
    "              max_features='auto', min_child_weight=3, missing=None,\n",
    "              n_estimators=182, n_jobs=-1, nthread=4,\n",
    "              objective='multi:softprob', random_state=97, reg_alpha=0.011,\n",
    "              reg_lambda=0.89, scale_pos_weight=1, seed=None, silent=None,\n",
    "              subsample=0.9, verbose=2, verbosity=1)\n",
    "'''\n",
    "\n",
    "Out[582]"
   ]
  },
  {
   "cell_type": "code",
   "execution_count": null,
   "metadata": {},
   "outputs": [],
   "source": [
    "#lreg = LogisticRegression(max_iter=10000, C=1, penalty=\"l1\", solver=\"saga\", verbose=2)\n",
    "\n",
    "#lreg.fit(X_train, y_train)"
   ]
  },
  {
   "cell_type": "code",
   "execution_count": null,
   "metadata": {},
   "outputs": [],
   "source": [
    "predictions = lreg.predict(X_test)"
   ]
  },
  {
   "cell_type": "code",
   "execution_count": 17,
   "metadata": {},
   "outputs": [],
   "source": [
    "from catboost import CatBoostClassifier\n",
    "\n",
    "columns = list(X_train.columns)\n",
    "cat_features = np.where(X_train[columns].dtypes != np.float)[0]"
   ]
  },
  {
   "cell_type": "code",
   "execution_count": 17,
   "metadata": {},
   "outputs": [],
   "source": [
    "#cbc = CatBoostClassifier(iterations=500, depth=5, leaf_estimation_iterations=10)\n",
    "#cbc.fit(X_train, y_train, cat_features=cat_features)#, logging_level='Silent')\n",
    "#print(cbc.score(X_train, y_train))"
   ]
  },
  {
   "cell_type": "code",
   "execution_count": 18,
   "metadata": {},
   "outputs": [
    {
     "data": {
      "text/plain": [
       "'\\nparameters = {\\n    \"learning_rate\": [0.01],\\n    \"max_depth\": [7, 10],\\n    \"n_estimators\": [200, 230, 250],\\n    \"bagging_temperature\": [10],\\n    \"colsample_bylevel\": [0.6]\\n    }\\n\\nclf = GridSearchCV(CatBoostClassifier(random_seed=97), parameters, cv=10, n_jobs=-1, verbose=True)\\n\\nclf.fit(X_train, y_train)\\nprint(clf.best_params_)\\nprint(clf.best_score_)\\n'"
      ]
     },
     "execution_count": 18,
     "metadata": {},
     "output_type": "execute_result"
    }
   ],
   "source": [
    "'''\n",
    "parameters = {\n",
    "    \"learning_rate\": [0.01],\n",
    "    \"max_depth\": [7, 10],\n",
    "    \"n_estimators\": [200, 230, 250],\n",
    "    \"bagging_temperature\": [10],\n",
    "    \"colsample_bylevel\": [0.6]\n",
    "    }\n",
    "\n",
    "clf = GridSearchCV(CatBoostClassifier(random_seed=97), parameters, cv=10, n_jobs=-1, verbose=True)\n",
    "\n",
    "clf.fit(X_train, y_train)\n",
    "print(clf.best_params_)\n",
    "print(clf.best_score_)\n",
    "'''"
   ]
  },
  {
   "cell_type": "code",
   "execution_count": 19,
   "metadata": {},
   "outputs": [
    {
     "data": {
      "text/plain": [
       "\"\\nclassifier = CatBoostClassifier(random_seed=97,\\n                                n_estimators=1000,\\n                                loss_function='Logloss',\\n                                colsample_bylevel=0.8,\\n                                max_depth=6,\\n                                learning_rate=0.01,\\n                                bagging_temperature=10)\\n\\nclassifier.fit(X_train, y_train)\\n\""
      ]
     },
     "execution_count": 19,
     "metadata": {},
     "output_type": "execute_result"
    }
   ],
   "source": [
    "'''\n",
    "classifier = CatBoostClassifier(random_seed=97,\n",
    "                                n_estimators=1000,\n",
    "                                loss_function='Logloss',\n",
    "                                colsample_bylevel=0.8,\n",
    "                                max_depth=6,\n",
    "                                learning_rate=0.01,\n",
    "                                bagging_temperature=10)\n",
    "\n",
    "classifier.fit(X_train, y_train)\n",
    "'''"
   ]
  },
  {
   "cell_type": "code",
   "execution_count": 23,
   "metadata": {},
   "outputs": [
    {
     "name": "stdout",
     "output_type": "stream",
     "text": [
      "Fitting 10 folds for each of 3 candidates, totalling 30 fits\n"
     ]
    },
    {
     "name": "stderr",
     "output_type": "stream",
     "text": [
      "[Parallel(n_jobs=-1)]: Using backend LokyBackend with 12 concurrent workers.\n",
      "[Parallel(n_jobs=-1)]: Done  23 out of  30 | elapsed:   40.1s remaining:   12.1s\n",
      "[Parallel(n_jobs=-1)]: Done  30 out of  30 | elapsed:   49.1s finished\n"
     ]
    },
    {
     "name": "stdout",
     "output_type": "stream",
     "text": [
      "0:\tlearn: 1.3373693\ttotal: 28.7ms\tremaining: 4.86s\n",
      "1:\tlearn: 1.2108338\ttotal: 49ms\tremaining: 4.12s\n",
      "2:\tlearn: 1.1345724\ttotal: 67.7ms\tremaining: 3.77s\n",
      "3:\tlearn: 1.0846587\ttotal: 89.6ms\tremaining: 3.72s\n",
      "4:\tlearn: 1.0503591\ttotal: 110ms\tremaining: 3.62s\n",
      "5:\tlearn: 1.0296855\ttotal: 116ms\tremaining: 3.18s\n",
      "6:\tlearn: 1.0105958\ttotal: 136ms\tremaining: 3.15s\n",
      "7:\tlearn: 0.9924019\ttotal: 154ms\tremaining: 3.12s\n",
      "8:\tlearn: 0.9869726\ttotal: 159ms\tremaining: 2.84s\n",
      "9:\tlearn: 0.9769694\ttotal: 179ms\tremaining: 2.86s\n",
      "10:\tlearn: 0.9682671\ttotal: 197ms\tremaining: 2.85s\n",
      "11:\tlearn: 0.9623189\ttotal: 218ms\tremaining: 2.87s\n",
      "12:\tlearn: 0.9545210\ttotal: 237ms\tremaining: 2.86s\n",
      "13:\tlearn: 0.9488562\ttotal: 257ms\tremaining: 2.87s\n",
      "14:\tlearn: 0.9441855\ttotal: 278ms\tremaining: 2.88s\n",
      "15:\tlearn: 0.9402351\ttotal: 300ms\tremaining: 2.89s\n",
      "16:\tlearn: 0.9379826\ttotal: 308ms\tremaining: 2.77s\n",
      "17:\tlearn: 0.9328470\ttotal: 328ms\tremaining: 2.77s\n",
      "18:\tlearn: 0.9322370\ttotal: 345ms\tremaining: 2.74s\n",
      "19:\tlearn: 0.9287251\ttotal: 364ms\tremaining: 2.73s\n",
      "20:\tlearn: 0.9252367\ttotal: 386ms\tremaining: 2.74s\n",
      "21:\tlearn: 0.9241985\ttotal: 408ms\tremaining: 2.74s\n",
      "22:\tlearn: 0.9232634\ttotal: 419ms\tremaining: 2.68s\n",
      "23:\tlearn: 0.9205551\ttotal: 438ms\tremaining: 2.67s\n",
      "24:\tlearn: 0.9204564\ttotal: 452ms\tremaining: 2.62s\n",
      "25:\tlearn: 0.9175458\ttotal: 473ms\tremaining: 2.62s\n",
      "26:\tlearn: 0.9159529\ttotal: 495ms\tremaining: 2.62s\n",
      "27:\tlearn: 0.9143859\ttotal: 516ms\tremaining: 2.62s\n",
      "28:\tlearn: 0.9139285\ttotal: 539ms\tremaining: 2.62s\n",
      "29:\tlearn: 0.9126182\ttotal: 560ms\tremaining: 2.61s\n",
      "30:\tlearn: 0.9098380\ttotal: 580ms\tremaining: 2.6s\n",
      "31:\tlearn: 0.9087442\ttotal: 602ms\tremaining: 2.6s\n",
      "32:\tlearn: 0.9065351\ttotal: 624ms\tremaining: 2.59s\n",
      "33:\tlearn: 0.9032697\ttotal: 645ms\tremaining: 2.58s\n",
      "34:\tlearn: 0.8976166\ttotal: 665ms\tremaining: 2.57s\n",
      "35:\tlearn: 0.8935627\ttotal: 686ms\tremaining: 2.55s\n",
      "36:\tlearn: 0.8882605\ttotal: 706ms\tremaining: 2.54s\n",
      "37:\tlearn: 0.8861413\ttotal: 727ms\tremaining: 2.52s\n",
      "38:\tlearn: 0.8824407\ttotal: 747ms\tremaining: 2.51s\n",
      "39:\tlearn: 0.8777167\ttotal: 767ms\tremaining: 2.49s\n",
      "40:\tlearn: 0.8739738\ttotal: 786ms\tremaining: 2.47s\n",
      "41:\tlearn: 0.8738954\ttotal: 809ms\tremaining: 2.47s\n",
      "42:\tlearn: 0.8721211\ttotal: 830ms\tremaining: 2.45s\n",
      "43:\tlearn: 0.8699961\ttotal: 850ms\tremaining: 2.43s\n",
      "44:\tlearn: 0.8670593\ttotal: 871ms\tremaining: 2.42s\n",
      "45:\tlearn: 0.8642207\ttotal: 891ms\tremaining: 2.4s\n",
      "46:\tlearn: 0.8623434\ttotal: 913ms\tremaining: 2.39s\n",
      "47:\tlearn: 0.8594271\ttotal: 932ms\tremaining: 2.37s\n",
      "48:\tlearn: 0.8575769\ttotal: 953ms\tremaining: 2.35s\n",
      "49:\tlearn: 0.8560086\ttotal: 974ms\tremaining: 2.34s\n",
      "50:\tlearn: 0.8527799\ttotal: 994ms\tremaining: 2.32s\n",
      "51:\tlearn: 0.8504519\ttotal: 1.02s\tremaining: 2.31s\n",
      "52:\tlearn: 0.8478865\ttotal: 1.04s\tremaining: 2.29s\n",
      "53:\tlearn: 0.8463699\ttotal: 1.06s\tremaining: 2.28s\n",
      "54:\tlearn: 0.8436574\ttotal: 1.08s\tremaining: 2.26s\n",
      "55:\tlearn: 0.8417801\ttotal: 1.1s\tremaining: 2.24s\n",
      "56:\tlearn: 0.8391307\ttotal: 1.12s\tremaining: 2.22s\n",
      "57:\tlearn: 0.8381420\ttotal: 1.14s\tremaining: 2.21s\n",
      "58:\tlearn: 0.8372804\ttotal: 1.17s\tremaining: 2.19s\n",
      "59:\tlearn: 0.8349640\ttotal: 1.19s\tremaining: 2.17s\n",
      "60:\tlearn: 0.8333310\ttotal: 1.21s\tremaining: 2.16s\n",
      "61:\tlearn: 0.8300013\ttotal: 1.23s\tremaining: 2.14s\n",
      "62:\tlearn: 0.8284461\ttotal: 1.25s\tremaining: 2.12s\n",
      "63:\tlearn: 0.8263679\ttotal: 1.27s\tremaining: 2.1s\n",
      "64:\tlearn: 0.8234893\ttotal: 1.29s\tremaining: 2.08s\n",
      "65:\tlearn: 0.8214858\ttotal: 1.31s\tremaining: 2.06s\n",
      "66:\tlearn: 0.8201908\ttotal: 1.33s\tremaining: 2.04s\n",
      "67:\tlearn: 0.8184079\ttotal: 1.35s\tremaining: 2.02s\n",
      "68:\tlearn: 0.8174819\ttotal: 1.37s\tremaining: 2s\n",
      "69:\tlearn: 0.8162866\ttotal: 1.39s\tremaining: 1.99s\n",
      "70:\tlearn: 0.8146026\ttotal: 1.41s\tremaining: 1.97s\n",
      "71:\tlearn: 0.8136875\ttotal: 1.44s\tremaining: 1.95s\n",
      "72:\tlearn: 0.8122555\ttotal: 1.46s\tremaining: 1.94s\n",
      "73:\tlearn: 0.8088019\ttotal: 1.48s\tremaining: 1.92s\n",
      "74:\tlearn: 0.8085723\ttotal: 1.5s\tremaining: 1.9s\n",
      "75:\tlearn: 0.8078606\ttotal: 1.52s\tremaining: 1.88s\n",
      "76:\tlearn: 0.8062480\ttotal: 1.54s\tremaining: 1.86s\n",
      "77:\tlearn: 0.8046047\ttotal: 1.56s\tremaining: 1.84s\n",
      "78:\tlearn: 0.8016689\ttotal: 1.58s\tremaining: 1.82s\n",
      "79:\tlearn: 0.8010029\ttotal: 1.6s\tremaining: 1.8s\n",
      "80:\tlearn: 0.7998580\ttotal: 1.62s\tremaining: 1.78s\n",
      "81:\tlearn: 0.7980855\ttotal: 1.64s\tremaining: 1.76s\n",
      "82:\tlearn: 0.7974040\ttotal: 1.67s\tremaining: 1.75s\n",
      "83:\tlearn: 0.7954936\ttotal: 1.69s\tremaining: 1.73s\n",
      "84:\tlearn: 0.7950718\ttotal: 1.71s\tremaining: 1.71s\n",
      "85:\tlearn: 0.7921729\ttotal: 1.73s\tremaining: 1.69s\n",
      "86:\tlearn: 0.7905400\ttotal: 1.75s\tremaining: 1.67s\n",
      "87:\tlearn: 0.7881480\ttotal: 1.77s\tremaining: 1.65s\n",
      "88:\tlearn: 0.7864239\ttotal: 1.79s\tremaining: 1.63s\n",
      "89:\tlearn: 0.7862567\ttotal: 1.81s\tremaining: 1.61s\n",
      "90:\tlearn: 0.7845120\ttotal: 1.83s\tremaining: 1.59s\n",
      "91:\tlearn: 0.7835706\ttotal: 1.85s\tremaining: 1.57s\n",
      "92:\tlearn: 0.7819016\ttotal: 1.87s\tremaining: 1.55s\n",
      "93:\tlearn: 0.7811155\ttotal: 1.9s\tremaining: 1.53s\n",
      "94:\tlearn: 0.7808552\ttotal: 1.92s\tremaining: 1.51s\n",
      "95:\tlearn: 0.7798640\ttotal: 1.94s\tremaining: 1.5s\n",
      "96:\tlearn: 0.7786662\ttotal: 1.96s\tremaining: 1.48s\n",
      "97:\tlearn: 0.7766966\ttotal: 1.98s\tremaining: 1.46s\n",
      "98:\tlearn: 0.7756239\ttotal: 2s\tremaining: 1.44s\n",
      "99:\tlearn: 0.7732782\ttotal: 2.02s\tremaining: 1.42s\n",
      "100:\tlearn: 0.7719289\ttotal: 2.04s\tremaining: 1.4s\n",
      "101:\tlearn: 0.7709721\ttotal: 2.06s\tremaining: 1.38s\n",
      "102:\tlearn: 0.7698481\ttotal: 2.08s\tremaining: 1.35s\n",
      "103:\tlearn: 0.7677633\ttotal: 2.1s\tremaining: 1.33s\n",
      "104:\tlearn: 0.7660673\ttotal: 2.12s\tremaining: 1.31s\n",
      "105:\tlearn: 0.7652182\ttotal: 2.14s\tremaining: 1.29s\n",
      "106:\tlearn: 0.7638668\ttotal: 2.16s\tremaining: 1.27s\n",
      "107:\tlearn: 0.7623420\ttotal: 2.18s\tremaining: 1.25s\n",
      "108:\tlearn: 0.7598263\ttotal: 2.2s\tremaining: 1.23s\n",
      "109:\tlearn: 0.7574613\ttotal: 2.22s\tremaining: 1.21s\n",
      "110:\tlearn: 0.7558537\ttotal: 2.25s\tremaining: 1.19s\n",
      "111:\tlearn: 0.7538082\ttotal: 2.27s\tremaining: 1.17s\n",
      "112:\tlearn: 0.7531535\ttotal: 2.29s\tremaining: 1.15s\n",
      "113:\tlearn: 0.7514519\ttotal: 2.31s\tremaining: 1.13s\n",
      "114:\tlearn: 0.7499248\ttotal: 2.33s\tremaining: 1.11s\n",
      "115:\tlearn: 0.7490251\ttotal: 2.35s\tremaining: 1.09s\n",
      "116:\tlearn: 0.7472708\ttotal: 2.37s\tremaining: 1.07s\n",
      "117:\tlearn: 0.7462193\ttotal: 2.39s\tremaining: 1.05s\n",
      "118:\tlearn: 0.7454993\ttotal: 2.41s\tremaining: 1.03s\n",
      "119:\tlearn: 0.7438582\ttotal: 2.43s\tremaining: 1.01s\n",
      "120:\tlearn: 0.7429846\ttotal: 2.45s\tremaining: 994ms\n",
      "121:\tlearn: 0.7415851\ttotal: 2.48s\tremaining: 974ms\n",
      "122:\tlearn: 0.7399251\ttotal: 2.5s\tremaining: 954ms\n",
      "123:\tlearn: 0.7387426\ttotal: 2.52s\tremaining: 934ms\n",
      "124:\tlearn: 0.7380562\ttotal: 2.54s\tremaining: 914ms\n",
      "125:\tlearn: 0.7360048\ttotal: 2.56s\tremaining: 894ms\n",
      "126:\tlearn: 0.7348388\ttotal: 2.58s\tremaining: 874ms\n",
      "127:\tlearn: 0.7337309\ttotal: 2.6s\tremaining: 854ms\n",
      "128:\tlearn: 0.7330172\ttotal: 2.62s\tremaining: 834ms\n",
      "129:\tlearn: 0.7324161\ttotal: 2.65s\tremaining: 814ms\n",
      "130:\tlearn: 0.7319023\ttotal: 2.67s\tremaining: 794ms\n",
      "131:\tlearn: 0.7309726\ttotal: 2.69s\tremaining: 774ms\n",
      "132:\tlearn: 0.7294074\ttotal: 2.71s\tremaining: 753ms\n",
      "133:\tlearn: 0.7280846\ttotal: 2.73s\tremaining: 733ms\n",
      "134:\tlearn: 0.7267778\ttotal: 2.75s\tremaining: 713ms\n",
      "135:\tlearn: 0.7263480\ttotal: 2.77s\tremaining: 693ms\n",
      "136:\tlearn: 0.7259722\ttotal: 2.79s\tremaining: 673ms\n",
      "137:\tlearn: 0.7255024\ttotal: 2.81s\tremaining: 652ms\n",
      "138:\tlearn: 0.7241624\ttotal: 2.83s\tremaining: 632ms\n",
      "139:\tlearn: 0.7233576\ttotal: 2.85s\tremaining: 611ms\n",
      "140:\tlearn: 0.7223540\ttotal: 2.87s\tremaining: 591ms\n",
      "141:\tlearn: 0.7210184\ttotal: 2.89s\tremaining: 570ms\n",
      "142:\tlearn: 0.7204983\ttotal: 2.91s\tremaining: 550ms\n",
      "143:\tlearn: 0.7191258\ttotal: 2.93s\tremaining: 530ms\n",
      "144:\tlearn: 0.7180072\ttotal: 2.95s\tremaining: 509ms\n",
      "145:\tlearn: 0.7171484\ttotal: 2.97s\tremaining: 489ms\n",
      "146:\tlearn: 0.7159224\ttotal: 2.99s\tremaining: 468ms\n",
      "147:\tlearn: 0.7156519\ttotal: 3.02s\tremaining: 448ms\n",
      "148:\tlearn: 0.7145659\ttotal: 3.03s\tremaining: 428ms\n",
      "149:\tlearn: 0.7129707\ttotal: 3.05s\tremaining: 407ms\n",
      "150:\tlearn: 0.7117674\ttotal: 3.07s\tremaining: 387ms\n",
      "151:\tlearn: 0.7104614\ttotal: 3.09s\tremaining: 366ms\n",
      "152:\tlearn: 0.7099203\ttotal: 3.11s\tremaining: 346ms\n",
      "153:\tlearn: 0.7079623\ttotal: 3.13s\tremaining: 326ms\n",
      "154:\tlearn: 0.7066650\ttotal: 3.15s\tremaining: 305ms\n",
      "155:\tlearn: 0.7051264\ttotal: 3.17s\tremaining: 285ms\n",
      "156:\tlearn: 0.7041677\ttotal: 3.19s\tremaining: 265ms\n",
      "157:\tlearn: 0.7039811\ttotal: 3.22s\tremaining: 244ms\n",
      "158:\tlearn: 0.7033163\ttotal: 3.24s\tremaining: 224ms\n",
      "159:\tlearn: 0.7028430\ttotal: 3.26s\tremaining: 204ms\n",
      "160:\tlearn: 0.7021005\ttotal: 3.28s\tremaining: 183ms\n",
      "161:\tlearn: 0.7005756\ttotal: 3.3s\tremaining: 163ms\n",
      "162:\tlearn: 0.6996908\ttotal: 3.32s\tremaining: 143ms\n",
      "163:\tlearn: 0.6984779\ttotal: 3.34s\tremaining: 122ms\n",
      "164:\tlearn: 0.6972657\ttotal: 3.36s\tremaining: 102ms\n",
      "165:\tlearn: 0.6969210\ttotal: 3.38s\tremaining: 81.5ms\n",
      "166:\tlearn: 0.6958766\ttotal: 3.4s\tremaining: 61.1ms\n",
      "167:\tlearn: 0.6948489\ttotal: 3.42s\tremaining: 40.7ms\n",
      "168:\tlearn: 0.6931609\ttotal: 3.44s\tremaining: 20.4ms\n"
     ]
    },
    {
     "name": "stdout",
     "output_type": "stream",
     "text": [
      "169:\tlearn: 0.6926080\ttotal: 3.46s\tremaining: 0us\n",
      "{'border_count': 100, 'depth': 7, 'iterations': 170, 'l2_leaf_reg': 10, 'learning_rate': 0.3, 'thread_count': 4}\n",
      "0.603\n"
     ]
    }
   ],
   "source": [
    "params = {'depth':[7],\n",
    "          'iterations':[170],\n",
    "          'learning_rate':[0.3], \n",
    "          'l2_leaf_reg':[10],\n",
    "          'border_count':[100],\n",
    "          'thread_count':[4]}\n",
    "\n",
    "clf = GridSearchCV(CatBoostClassifier(random_seed=97), params, cv=10, n_jobs=-1, verbose=2)\n",
    "\n",
    "clf.fit(X_train, y_train, cat_features=cat_features)\n",
    "print(clf.best_params_)\n",
    "print(clf.best_score_)"
   ]
  },
  {
   "cell_type": "code",
   "execution_count": 34,
   "metadata": {},
   "outputs": [
    {
     "name": "stdout",
     "output_type": "stream",
     "text": [
      "0:\tlearn: 1.3315898\ttotal: 20.7ms\tremaining: 3.5s\n",
      "1:\tlearn: 1.2130553\ttotal: 41.3ms\tremaining: 3.47s\n",
      "2:\tlearn: 1.1390238\ttotal: 65ms\tremaining: 3.62s\n",
      "3:\tlearn: 1.0896347\ttotal: 80.4ms\tremaining: 3.34s\n",
      "4:\tlearn: 1.0557338\ttotal: 101ms\tremaining: 3.34s\n",
      "5:\tlearn: 1.0353078\ttotal: 110ms\tremaining: 3.01s\n",
      "6:\tlearn: 1.0159354\ttotal: 130ms\tremaining: 3.03s\n",
      "7:\tlearn: 1.0061995\ttotal: 140ms\tremaining: 2.84s\n",
      "8:\tlearn: 0.9896456\ttotal: 160ms\tremaining: 2.86s\n",
      "9:\tlearn: 0.9786454\ttotal: 176ms\tremaining: 2.82s\n",
      "10:\tlearn: 0.9692133\ttotal: 195ms\tremaining: 2.82s\n",
      "11:\tlearn: 0.9620898\ttotal: 212ms\tremaining: 2.79s\n",
      "12:\tlearn: 0.9563067\ttotal: 235ms\tremaining: 2.83s\n",
      "13:\tlearn: 0.9534306\ttotal: 252ms\tremaining: 2.8s\n",
      "14:\tlearn: 0.9510743\ttotal: 273ms\tremaining: 2.82s\n",
      "15:\tlearn: 0.9503007\ttotal: 290ms\tremaining: 2.79s\n",
      "16:\tlearn: 0.9481498\ttotal: 310ms\tremaining: 2.79s\n",
      "17:\tlearn: 0.9460197\ttotal: 326ms\tremaining: 2.75s\n",
      "18:\tlearn: 0.9442790\ttotal: 346ms\tremaining: 2.75s\n",
      "19:\tlearn: 0.9425619\ttotal: 362ms\tremaining: 2.72s\n",
      "20:\tlearn: 0.9381585\ttotal: 383ms\tremaining: 2.71s\n",
      "21:\tlearn: 0.9349437\ttotal: 399ms\tremaining: 2.68s\n",
      "22:\tlearn: 0.9335849\ttotal: 419ms\tremaining: 2.68s\n",
      "23:\tlearn: 0.9329512\ttotal: 437ms\tremaining: 2.66s\n",
      "24:\tlearn: 0.9327214\ttotal: 451ms\tremaining: 2.62s\n",
      "25:\tlearn: 0.9304541\ttotal: 469ms\tremaining: 2.6s\n",
      "26:\tlearn: 0.9282929\ttotal: 484ms\tremaining: 2.56s\n",
      "27:\tlearn: 0.9263706\ttotal: 505ms\tremaining: 2.56s\n",
      "28:\tlearn: 0.9243417\ttotal: 521ms\tremaining: 2.53s\n",
      "29:\tlearn: 0.9243343\ttotal: 532ms\tremaining: 2.48s\n",
      "30:\tlearn: 0.9213769\ttotal: 549ms\tremaining: 2.46s\n",
      "31:\tlearn: 0.9202043\ttotal: 569ms\tremaining: 2.45s\n",
      "32:\tlearn: 0.9157331\ttotal: 586ms\tremaining: 2.43s\n",
      "33:\tlearn: 0.9116349\ttotal: 607ms\tremaining: 2.43s\n",
      "34:\tlearn: 0.9110313\ttotal: 623ms\tremaining: 2.4s\n",
      "35:\tlearn: 0.9093512\ttotal: 643ms\tremaining: 2.39s\n",
      "36:\tlearn: 0.9080903\ttotal: 659ms\tremaining: 2.37s\n",
      "37:\tlearn: 0.9059227\ttotal: 681ms\tremaining: 2.36s\n",
      "38:\tlearn: 0.9030360\ttotal: 696ms\tremaining: 2.34s\n",
      "39:\tlearn: 0.9003295\ttotal: 717ms\tremaining: 2.33s\n",
      "40:\tlearn: 0.8989237\ttotal: 733ms\tremaining: 2.3s\n",
      "41:\tlearn: 0.8975092\ttotal: 754ms\tremaining: 2.3s\n",
      "42:\tlearn: 0.8949048\ttotal: 771ms\tremaining: 2.28s\n",
      "43:\tlearn: 0.8929187\ttotal: 793ms\tremaining: 2.27s\n",
      "44:\tlearn: 0.8899098\ttotal: 808ms\tremaining: 2.25s\n",
      "45:\tlearn: 0.8872661\ttotal: 829ms\tremaining: 2.23s\n",
      "46:\tlearn: 0.8845331\ttotal: 846ms\tremaining: 2.21s\n",
      "47:\tlearn: 0.8818374\ttotal: 874ms\tremaining: 2.22s\n",
      "48:\tlearn: 0.8791047\ttotal: 890ms\tremaining: 2.2s\n",
      "49:\tlearn: 0.8773572\ttotal: 911ms\tremaining: 2.19s\n",
      "50:\tlearn: 0.8762695\ttotal: 927ms\tremaining: 2.16s\n",
      "51:\tlearn: 0.8752306\ttotal: 949ms\tremaining: 2.15s\n",
      "52:\tlearn: 0.8734575\ttotal: 965ms\tremaining: 2.13s\n",
      "53:\tlearn: 0.8724914\ttotal: 986ms\tremaining: 2.12s\n",
      "54:\tlearn: 0.8705562\ttotal: 1s\tremaining: 2.09s\n",
      "55:\tlearn: 0.8682960\ttotal: 1.02s\tremaining: 2.08s\n",
      "56:\tlearn: 0.8676326\ttotal: 1.04s\tremaining: 2.06s\n",
      "57:\tlearn: 0.8665268\ttotal: 1.06s\tremaining: 2.04s\n",
      "58:\tlearn: 0.8640035\ttotal: 1.07s\tremaining: 2.02s\n",
      "59:\tlearn: 0.8603129\ttotal: 1.09s\tremaining: 2s\n",
      "60:\tlearn: 0.8596748\ttotal: 1.11s\tremaining: 1.98s\n",
      "61:\tlearn: 0.8567393\ttotal: 1.13s\tremaining: 1.97s\n",
      "62:\tlearn: 0.8548328\ttotal: 1.15s\tremaining: 1.95s\n",
      "63:\tlearn: 0.8535924\ttotal: 1.17s\tremaining: 1.94s\n",
      "64:\tlearn: 0.8520885\ttotal: 1.18s\tremaining: 1.91s\n",
      "65:\tlearn: 0.8513064\ttotal: 1.21s\tremaining: 1.9s\n",
      "66:\tlearn: 0.8508370\ttotal: 1.22s\tremaining: 1.88s\n",
      "67:\tlearn: 0.8498535\ttotal: 1.25s\tremaining: 1.87s\n",
      "68:\tlearn: 0.8470483\ttotal: 1.26s\tremaining: 1.85s\n",
      "69:\tlearn: 0.8459472\ttotal: 1.28s\tremaining: 1.83s\n",
      "70:\tlearn: 0.8454547\ttotal: 1.3s\tremaining: 1.81s\n",
      "71:\tlearn: 0.8436955\ttotal: 1.32s\tremaining: 1.8s\n",
      "72:\tlearn: 0.8426755\ttotal: 1.34s\tremaining: 1.78s\n",
      "73:\tlearn: 0.8414464\ttotal: 1.36s\tremaining: 1.76s\n",
      "74:\tlearn: 0.8407293\ttotal: 1.37s\tremaining: 1.74s\n",
      "75:\tlearn: 0.8391248\ttotal: 1.39s\tremaining: 1.72s\n",
      "76:\tlearn: 0.8389191\ttotal: 1.41s\tremaining: 1.7s\n",
      "77:\tlearn: 0.8379530\ttotal: 1.43s\tremaining: 1.69s\n",
      "78:\tlearn: 0.8364198\ttotal: 1.45s\tremaining: 1.67s\n",
      "79:\tlearn: 0.8353615\ttotal: 1.47s\tremaining: 1.65s\n",
      "80:\tlearn: 0.8346368\ttotal: 1.48s\tremaining: 1.63s\n",
      "81:\tlearn: 0.8338825\ttotal: 1.5s\tremaining: 1.61s\n",
      "82:\tlearn: 0.8326899\ttotal: 1.52s\tremaining: 1.59s\n",
      "83:\tlearn: 0.8313839\ttotal: 1.54s\tremaining: 1.58s\n",
      "84:\tlearn: 0.8311643\ttotal: 1.56s\tremaining: 1.56s\n",
      "85:\tlearn: 0.8299398\ttotal: 1.58s\tremaining: 1.54s\n",
      "86:\tlearn: 0.8279856\ttotal: 1.6s\tremaining: 1.52s\n",
      "87:\tlearn: 0.8272964\ttotal: 1.62s\tremaining: 1.51s\n",
      "88:\tlearn: 0.8259498\ttotal: 1.63s\tremaining: 1.49s\n",
      "89:\tlearn: 0.8247204\ttotal: 1.66s\tremaining: 1.47s\n",
      "90:\tlearn: 0.8243666\ttotal: 1.67s\tremaining: 1.45s\n",
      "91:\tlearn: 0.8242641\ttotal: 1.69s\tremaining: 1.44s\n",
      "92:\tlearn: 0.8234983\ttotal: 1.71s\tremaining: 1.42s\n",
      "93:\tlearn: 0.8229006\ttotal: 1.73s\tremaining: 1.4s\n",
      "94:\tlearn: 0.8214722\ttotal: 1.75s\tremaining: 1.38s\n",
      "95:\tlearn: 0.8206189\ttotal: 1.77s\tremaining: 1.36s\n",
      "96:\tlearn: 0.8193727\ttotal: 1.78s\tremaining: 1.34s\n",
      "97:\tlearn: 0.8182735\ttotal: 1.8s\tremaining: 1.32s\n",
      "98:\tlearn: 0.8168800\ttotal: 1.82s\tremaining: 1.3s\n",
      "99:\tlearn: 0.8161888\ttotal: 1.84s\tremaining: 1.29s\n",
      "100:\tlearn: 0.8146019\ttotal: 1.86s\tremaining: 1.27s\n",
      "101:\tlearn: 0.8131433\ttotal: 1.88s\tremaining: 1.25s\n",
      "102:\tlearn: 0.8121966\ttotal: 1.89s\tremaining: 1.23s\n",
      "103:\tlearn: 0.8109090\ttotal: 1.91s\tremaining: 1.22s\n",
      "104:\tlearn: 0.8099379\ttotal: 1.93s\tremaining: 1.19s\n",
      "105:\tlearn: 0.8086224\ttotal: 1.95s\tremaining: 1.18s\n",
      "106:\tlearn: 0.8065807\ttotal: 1.97s\tremaining: 1.16s\n",
      "107:\tlearn: 0.8059665\ttotal: 1.99s\tremaining: 1.14s\n",
      "108:\tlearn: 0.8026173\ttotal: 2s\tremaining: 1.12s\n",
      "109:\tlearn: 0.8018052\ttotal: 2.02s\tremaining: 1.1s\n",
      "110:\tlearn: 0.8009906\ttotal: 2.04s\tremaining: 1.08s\n",
      "111:\tlearn: 0.7999268\ttotal: 2.06s\tremaining: 1.07s\n",
      "112:\tlearn: 0.7989527\ttotal: 2.08s\tremaining: 1.05s\n",
      "113:\tlearn: 0.7981642\ttotal: 2.1s\tremaining: 1.03s\n",
      "114:\tlearn: 0.7973978\ttotal: 2.12s\tremaining: 1.01s\n",
      "115:\tlearn: 0.7967036\ttotal: 2.14s\tremaining: 995ms\n",
      "116:\tlearn: 0.7949219\ttotal: 2.15s\tremaining: 975ms\n",
      "117:\tlearn: 0.7935169\ttotal: 2.17s\tremaining: 958ms\n",
      "118:\tlearn: 0.7925597\ttotal: 2.19s\tremaining: 938ms\n",
      "119:\tlearn: 0.7917737\ttotal: 2.21s\tremaining: 921ms\n",
      "120:\tlearn: 0.7904463\ttotal: 2.23s\tremaining: 902ms\n",
      "121:\tlearn: 0.7899125\ttotal: 2.25s\tremaining: 885ms\n",
      "122:\tlearn: 0.7895771\ttotal: 2.27s\tremaining: 866ms\n",
      "123:\tlearn: 0.7875331\ttotal: 2.29s\tremaining: 849ms\n",
      "124:\tlearn: 0.7867351\ttotal: 2.31s\tremaining: 831ms\n",
      "125:\tlearn: 0.7856743\ttotal: 2.33s\tremaining: 813ms\n",
      "126:\tlearn: 0.7843206\ttotal: 2.34s\tremaining: 793ms\n",
      "127:\tlearn: 0.7839527\ttotal: 2.36s\tremaining: 775ms\n",
      "128:\tlearn: 0.7832189\ttotal: 2.38s\tremaining: 756ms\n",
      "129:\tlearn: 0.7822974\ttotal: 2.4s\tremaining: 738ms\n",
      "130:\tlearn: 0.7819074\ttotal: 2.42s\tremaining: 719ms\n",
      "131:\tlearn: 0.7814283\ttotal: 2.44s\tremaining: 702ms\n",
      "132:\tlearn: 0.7803020\ttotal: 2.45s\tremaining: 682ms\n",
      "133:\tlearn: 0.7796134\ttotal: 2.47s\tremaining: 665ms\n",
      "134:\tlearn: 0.7782763\ttotal: 2.49s\tremaining: 646ms\n",
      "135:\tlearn: 0.7773457\ttotal: 2.51s\tremaining: 627ms\n",
      "136:\tlearn: 0.7769375\ttotal: 2.53s\tremaining: 608ms\n",
      "137:\tlearn: 0.7767138\ttotal: 2.55s\tremaining: 591ms\n",
      "138:\tlearn: 0.7754700\ttotal: 2.56s\tremaining: 571ms\n",
      "139:\tlearn: 0.7748766\ttotal: 2.58s\tremaining: 553ms\n",
      "140:\tlearn: 0.7740722\ttotal: 2.6s\tremaining: 535ms\n",
      "141:\tlearn: 0.7730916\ttotal: 2.62s\tremaining: 516ms\n",
      "142:\tlearn: 0.7724446\ttotal: 2.64s\tremaining: 498ms\n",
      "143:\tlearn: 0.7716160\ttotal: 2.66s\tremaining: 480ms\n",
      "144:\tlearn: 0.7702857\ttotal: 2.67s\tremaining: 461ms\n",
      "145:\tlearn: 0.7696703\ttotal: 2.69s\tremaining: 443ms\n",
      "146:\tlearn: 0.7693022\ttotal: 2.71s\tremaining: 424ms\n",
      "147:\tlearn: 0.7685300\ttotal: 2.73s\tremaining: 406ms\n",
      "148:\tlearn: 0.7673670\ttotal: 2.75s\tremaining: 387ms\n",
      "149:\tlearn: 0.7663950\ttotal: 2.77s\tremaining: 369ms\n",
      "150:\tlearn: 0.7651796\ttotal: 2.78s\tremaining: 350ms\n",
      "151:\tlearn: 0.7647645\ttotal: 2.8s\tremaining: 332ms\n",
      "152:\tlearn: 0.7636006\ttotal: 2.82s\tremaining: 313ms\n",
      "153:\tlearn: 0.7627811\ttotal: 2.84s\tremaining: 295ms\n",
      "154:\tlearn: 0.7622243\ttotal: 2.86s\tremaining: 277ms\n",
      "155:\tlearn: 0.7612112\ttotal: 2.88s\tremaining: 258ms\n",
      "156:\tlearn: 0.7606857\ttotal: 2.89s\tremaining: 240ms\n",
      "157:\tlearn: 0.7601250\ttotal: 2.91s\tremaining: 221ms\n",
      "158:\tlearn: 0.7591204\ttotal: 2.93s\tremaining: 203ms\n",
      "159:\tlearn: 0.7581318\ttotal: 2.95s\tremaining: 184ms\n",
      "160:\tlearn: 0.7571489\ttotal: 2.97s\tremaining: 166ms\n",
      "161:\tlearn: 0.7562814\ttotal: 2.99s\tremaining: 147ms\n"
     ]
    },
    {
     "name": "stdout",
     "output_type": "stream",
     "text": [
      "162:\tlearn: 0.7549694\ttotal: 3s\tremaining: 129ms\n",
      "163:\tlearn: 0.7536399\ttotal: 3.03s\tremaining: 111ms\n",
      "164:\tlearn: 0.7523397\ttotal: 3.04s\tremaining: 92.2ms\n",
      "165:\tlearn: 0.7515459\ttotal: 3.06s\tremaining: 73.8ms\n",
      "166:\tlearn: 0.7510785\ttotal: 3.08s\tremaining: 55.3ms\n",
      "167:\tlearn: 0.7506238\ttotal: 3.1s\tremaining: 36.9ms\n",
      "168:\tlearn: 0.7499483\ttotal: 3.12s\tremaining: 18.4ms\n",
      "169:\tlearn: 0.7484567\ttotal: 3.13s\tremaining: 0us\n"
     ]
    },
    {
     "data": {
      "text/plain": [
       "<catboost.core.CatBoostClassifier at 0x22f36f5b8c8>"
      ]
     },
     "execution_count": 34,
     "metadata": {},
     "output_type": "execute_result"
    }
   ],
   "source": [
    "classifier = CatBoostClassifier(random_seed = 97,\n",
    "                                iterations = 170,\n",
    "                                loss_function = 'MultiClass',\n",
    "                                depth = 6,\n",
    "                                learning_rate = 0.3,\n",
    "                                l2_leaf_reg = 10,\n",
    "                                border_count = 100,\n",
    "                                thread_count = 4)\n",
    "\n",
    "classifier.fit(X_train, y_train, cat_features=cat_features)"
   ]
  }
 ],
 "metadata": {
  "kernelspec": {
   "display_name": "Python 3",
   "language": "python",
   "name": "python3"
  },
  "language_info": {
   "codemirror_mode": {
    "name": "ipython",
    "version": 3
   },
   "file_extension": ".py",
   "mimetype": "text/x-python",
   "name": "python",
   "nbconvert_exporter": "python",
   "pygments_lexer": "ipython3",
   "version": "3.7.6"
  }
 },
 "nbformat": 4,
 "nbformat_minor": 2
}
